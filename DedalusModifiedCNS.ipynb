{
 "cells": [
  {
   "cell_type": "markdown",
   "id": "7e1281d0-a842-4255-9781-f79d1308789d",
   "metadata": {},
   "source": [
    "# Codigo basado en el ejemplo de Dedalus\n",
    "\n",
    "Se modifico el ejemplo de dedalus **Internally Heated Convection**, el cual resuelve las ecuaciones\n",
    "\\begin{align}\n",
    "\\nabla \\cdot \\mathbf{u} &= 0\\\\\n",
    "\\frac{\\partial \\mathbf{u}}{\\partial t} - \\nu \\nabla^2 \\mathbf{u} +\\nabla p - \\hat{r} T &= -(\\mathbf{u} \\cdot \\nabla)\\mathbf{u}\\\\\n",
    "\\frac{\\partial T}{\\partial t} - \\kappa \\nabla^2 T &= -(u\\cdot \\nabla)T + \\kappa T_c\n",
    "\\end{align}\n",
    "Dado que este ejemplo resuelve ecuaciones similares a las que se quieren resolver, se modifico el codigo para resolver\n",
    "\\begin{align}\n",
    "\\frac{\\partial \\ln \\rho}{\\partial t} + \\nabla \\cdot \\mathbf{u} &= -\\mathbf{u} \\cdot \\nabla \\ln \\rho\\\\\n",
    "\\frac{\\partial \\mathbf{u}}{\\partial t} - \\nu \\nabla^2 \\mathbf{u} +\\frac{\\nabla p}{\\rho} &= -(\\mathbf{u} \\cdot \\nabla)\\mathbf{u}\\\\\n",
    "\\frac{\\partial T}{\\partial t}  &= -u\\cdot \\nabla T \n",
    "\\end{align}"
   ]
  },
  {
   "cell_type": "code",
   "execution_count": 1,
   "id": "b6b7175d-8ac5-4b00-ad19-42edd04d84b9",
   "metadata": {},
   "outputs": [
    {
     "name": "stdout",
     "output_type": "stream",
     "text": [
      "2025-07-03 00:20:15,774 dedalus 0/1 WARNING :: Threading has not been disabled. This may massively degrade Dedalus performance.\n",
      "2025-07-03 00:20:15,777 dedalus 0/1 WARNING :: We strongly suggest setting the \"OMP_NUM_THREADS\" environment variable to \"1\".\n",
      "2025-07-03 00:20:15,924 numexpr.utils 0/1 INFO :: NumExpr defaulting to 16 threads.\n"
     ]
    }
   ],
   "source": [
    "import sys\n",
    "import numpy as np\n",
    "import dedalus.public as d3\n",
    "import logging\n",
    "logger = logging.getLogger(__name__)\n",
    "\n",
    "\n",
    "# Allow restarting via command line\n",
    "restart = (len(sys.argv) > 1 and sys.argv[1] == '--restart')\n",
    "\n",
    "# Parameters\n",
    "Nphi, Ntheta, Nr = 96, 48, 64\n",
    "Rayleigh = 1e6\n",
    "Prandtl = 1\n",
    "dealias = 3/2\n",
    "stop_sim_time = 20 + 20*restart\n",
    "timestepper = d3.SBDF2\n",
    "max_timestep = 0.0002\n",
    "dtype = np.float64\n",
    "mesh = None\n",
    "\n",
    "Gamma = 5/3\n",
    "sc,Tc,rho_c = 10,200, 11\n",
    "boundary_s , boundary_rho = 100,0.001\n",
    "cv=1000"
   ]
  },
  {
   "cell_type": "code",
   "execution_count": 2,
   "id": "2a9358fa-a329-43e6-8a70-899f5e78cec5",
   "metadata": {},
   "outputs": [],
   "source": [
    "# Bases\n",
    "coords = d3.SphericalCoordinates('phi', 'theta', 'r')\n",
    "dist = d3.Distributor(coords, dtype=dtype, mesh=mesh)\n",
    "ball = d3.BallBasis(coords, shape=(Nphi, Ntheta, Nr), radius=1, dealias=dealias, dtype=dtype)\n",
    "sphere = ball.surface\n",
    "\n",
    "# Fields\n",
    "u = dist.VectorField(coords, name='u',bases=ball)\n",
    "p = dist.Field(name='p', bases=ball)\n",
    "s = dist.Field(name='T', bases=ball)\n",
    "lnrho = dist.Field(bases=ball,name=\"lnrho\")\n",
    "\n",
    "\n",
    "tau_p = dist.Field(name='tau_p')\n",
    "tau_u = dist.VectorField(coords, name='tau u', bases=sphere)\n",
    "tau_s = dist.Field(name='tau T', bases=sphere)\n",
    "tau_rho = dist.Field(bases=sphere,name=\"tau_rho\")\n",
    "\n",
    "\n",
    "# Substitutions\n",
    "phi, theta, r = dist.local_grids(ball)\n",
    "nu = 1e-1\n",
    "lift = lambda A: d3.Lift(A, ball, -1)\n",
    "strain_rate = d3.grad(u) + d3.trans(d3.grad(u))\n",
    "shear_stress = d3.angular(d3.radial(strain_rate(r=1), index=1))\n",
    "rho = np.exp(lnrho)\n",
    "T = Tc*(rho/rho_c)**(Gamma-1)*np.exp((s-sc)/cv)\n",
    "p = rho*T\n",
    "\n",
    "lnrho['g'] = np.log(rho_c + (boundary_rho - rho_c) * 0.5 * (1 + np.tanh((r-0.5)/0.2)))\n",
    "s['g'] = sc + (boundary_s - sc) * 0.5 * (1 + np.tanh((r-0.5)/0.2))\n",
    "u.fill_random('g')"
   ]
  },
  {
   "cell_type": "code",
   "execution_count": 3,
   "id": "763858fa-4b09-42b3-a6f5-b3e22dbb42e1",
   "metadata": {},
   "outputs": [
    {
     "name": "stdout",
     "output_type": "stream",
     "text": [
      "2025-07-03 00:21:02,550 subsystems 0/1 INFO :: Building subproblem matrices 1/47 (~2%) Elapsed: 0s, Remaining: 5s, Rate: 9.8e+00/s\n",
      "2025-07-03 00:21:03,154 subsystems 0/1 INFO :: Building subproblem matrices 5/47 (~11%) Elapsed: 1s, Remaining: 6s, Rate: 7.1e+00/s\n",
      "2025-07-03 00:21:03,912 subsystems 0/1 INFO :: Building subproblem matrices 10/47 (~21%) Elapsed: 1s, Remaining: 5s, Rate: 6.8e+00/s\n",
      "2025-07-03 00:21:04,671 subsystems 0/1 INFO :: Building subproblem matrices 15/47 (~32%) Elapsed: 2s, Remaining: 5s, Rate: 6.7e+00/s\n",
      "2025-07-03 00:21:05,436 subsystems 0/1 INFO :: Building subproblem matrices 20/47 (~43%) Elapsed: 3s, Remaining: 4s, Rate: 6.7e+00/s\n",
      "2025-07-03 00:21:06,207 subsystems 0/1 INFO :: Building subproblem matrices 25/47 (~53%) Elapsed: 4s, Remaining: 3s, Rate: 6.6e+00/s\n",
      "2025-07-03 00:21:06,965 subsystems 0/1 INFO :: Building subproblem matrices 30/47 (~64%) Elapsed: 5s, Remaining: 3s, Rate: 6.6e+00/s\n",
      "2025-07-03 00:21:07,716 subsystems 0/1 INFO :: Building subproblem matrices 35/47 (~74%) Elapsed: 5s, Remaining: 2s, Rate: 6.6e+00/s\n",
      "2025-07-03 00:21:08,464 subsystems 0/1 INFO :: Building subproblem matrices 40/47 (~85%) Elapsed: 6s, Remaining: 1s, Rate: 6.6e+00/s\n",
      "2025-07-03 00:21:09,213 subsystems 0/1 INFO :: Building subproblem matrices 45/47 (~96%) Elapsed: 7s, Remaining: 0s, Rate: 6.7e+00/s\n",
      "2025-07-03 00:21:09,512 subsystems 0/1 INFO :: Building subproblem matrices 47/47 (~100%) Elapsed: 7s, Remaining: 0s, Rate: 6.7e+00/s\n",
      "2025-07-03 00:21:09,538 __main__ 0/1 INFO :: Starting main loop\n",
      "2025-07-03 00:21:26,102 __main__ 0/1 INFO :: Iteration=1, Time=2.000000e-04, dt=2.000000e-04, max(u)=4.487921e+00\n",
      "2025-07-03 00:21:27,695 __main__ 0/1 INFO :: Iteration=2, Time=4.000000e-04, dt=2.000000e-04, max(u)=4.487921e+00\n",
      "2025-07-03 00:21:28,964 __main__ 0/1 INFO :: Iteration=3, Time=6.000000e-04, dt=2.000000e-04, max(u)=4.487921e+00\n",
      "2025-07-03 00:21:30,264 __main__ 0/1 INFO :: Iteration=4, Time=8.000000e-04, dt=2.000000e-04, max(u)=4.487921e+00\n",
      "2025-07-03 00:21:31,557 __main__ 0/1 INFO :: Iteration=5, Time=1.000000e-03, dt=2.000000e-04, max(u)=4.487921e+00\n",
      "2025-07-03 00:21:32,904 __main__ 0/1 INFO :: Iteration=6, Time=1.200000e-03, dt=2.000000e-04, max(u)=4.487921e+00\n"
     ]
    },
    {
     "name": "stderr",
     "output_type": "stream",
     "text": [
      "/home/lau/miniforge3/envs/dedalus3/lib/python3.13/site-packages/dedalus/core/operators.py:588: RuntimeWarning: overflow encountered in exp\n",
      "  self.func(arg0.data, out=out.data)\n",
      "/home/lau/miniforge3/envs/dedalus3/lib/python3.13/site-packages/dedalus/core/arithmetic.py:865: RuntimeWarning: overflow encountered in multiply\n",
      "  np.multiply(arg0_exp_data, arg1_exp_data, out=out.data)\n",
      "/home/lau/miniforge3/envs/dedalus3/lib/python3.13/site-packages/dedalus/core/operators.py:384: RuntimeWarning: divide by zero encountered in power\n",
      "  np.power(arg0.data, arg1, out.data)\n",
      "/home/lau/miniforge3/envs/dedalus3/lib/python3.13/site-packages/dedalus/core/operators.py:384: RuntimeWarning: overflow encountered in power\n",
      "  np.power(arg0.data, arg1, out.data)\n",
      "/home/lau/miniforge3/envs/dedalus3/lib/python3.13/site-packages/dedalus/tools/array.py:117: RuntimeWarning: invalid value encountered in matmul\n",
      "  temp = np.matmul(matrix, array) # Allocates temp\n"
     ]
    },
    {
     "name": "stdout",
     "output_type": "stream",
     "text": [
      "2025-07-03 00:21:34,159 __main__ 0/1 INFO :: Iteration=7, Time=1.400000e-03, dt=2.000000e-04, max(u)=4.487921e+00\n",
      "2025-07-03 00:21:35,403 __main__ 0/1 INFO :: Iteration=8, Time=1.600000e-03, dt=2.000000e-04, max(u)=4.487921e+00\n",
      "2025-07-03 00:21:36,642 __main__ 0/1 INFO :: Iteration=9, Time=1.800000e-03, dt=2.000000e-04, max(u)=4.487921e+00\n",
      "2025-07-03 00:21:37,478 __main__ 0/1 ERROR :: Exception raised, triggering end of main loop.\n",
      "2025-07-03 00:21:37,480 solvers 0/1 INFO :: Final iteration: 9\n",
      "2025-07-03 00:21:37,481 solvers 0/1 INFO :: Final sim time: 0.0018000000000000004\n",
      "2025-07-03 00:21:37,481 solvers 0/1 INFO :: Setup time (init - iter 0): 59.59 sec\n",
      "2025-07-03 00:21:37,482 solvers 0/1 INFO :: Timings unavailable because warmup did not complete.\n"
     ]
    },
    {
     "name": "stderr",
     "output_type": "stream",
     "text": [
      "/home/lau/miniforge3/envs/dedalus3/lib/python3.13/site-packages/dedalus/core/evaluator.py:419: SyntaxWarning: invalid escape sequence '\\d'\n",
      "  m = re.match(\"{}_s(\\d+)$\".format(base_path.stem), set.stem)\n",
      "/home/lau/miniforge3/envs/dedalus3/lib/python3.13/site-packages/dedalus/core/transforms.py:162: SyntaxWarning: invalid escape sequence '\\s'\n",
      "  \"\"\"\n",
      "/home/lau/miniforge3/envs/dedalus3/lib/python3.13/site-packages/dedalus/core/transforms.py:334: SyntaxWarning: invalid escape sequence '\\s'\n",
      "  \"\"\"\n",
      "/home/lau/miniforge3/envs/dedalus3/lib/python3.13/site-packages/dedalus/core/transforms.py:633: SyntaxWarning: invalid escape sequence '\\s'\n",
      "  \"\"\"\n"
     ]
    },
    {
     "ename": "KeyboardInterrupt",
     "evalue": "",
     "output_type": "error",
     "traceback": [
      "\u001b[31m---------------------------------------------------------------------------\u001b[39m",
      "\u001b[31mKeyboardInterrupt\u001b[39m                         Traceback (most recent call last)",
      "\u001b[36mCell\u001b[39m\u001b[36m \u001b[39m\u001b[32mIn[3]\u001b[39m\u001b[32m, line 44\u001b[39m\n\u001b[32m     42\u001b[39m \u001b[38;5;28;01mwhile\u001b[39;00m solver.proceed:\n\u001b[32m     43\u001b[39m     timestep = CFL.compute_timestep()\n\u001b[32m---> \u001b[39m\u001b[32m44\u001b[39m     \u001b[43msolver\u001b[49m\u001b[43m.\u001b[49m\u001b[43mstep\u001b[49m\u001b[43m(\u001b[49m\u001b[43mtimestep\u001b[49m\u001b[43m)\u001b[49m\n\u001b[32m     45\u001b[39m     \u001b[38;5;28;01mif\u001b[39;00m (solver.iteration-\u001b[32m1\u001b[39m) % \u001b[32m1\u001b[39m == \u001b[32m0\u001b[39m:\n\u001b[32m     46\u001b[39m         max_u = np.sqrt(flow.max(\u001b[33m'\u001b[39m\u001b[33mu2\u001b[39m\u001b[33m'\u001b[39m))\n",
      "\u001b[36mFile \u001b[39m\u001b[32m~/miniforge3/envs/dedalus3/lib/python3.13/site-packages/dedalus/core/solvers.py:708\u001b[39m, in \u001b[36mInitialValueSolver.step\u001b[39m\u001b[34m(self, dt)\u001b[39m\n\u001b[32m    706\u001b[39m     \u001b[38;5;28mself\u001b[39m.run_time_start = \u001b[38;5;28mself\u001b[39m.wall_time\n\u001b[32m    707\u001b[39m \u001b[38;5;66;03m# Advance using timestepper\u001b[39;00m\n\u001b[32m--> \u001b[39m\u001b[32m708\u001b[39m \u001b[38;5;28;43mself\u001b[39;49m\u001b[43m.\u001b[49m\u001b[43mtimestepper\u001b[49m\u001b[43m.\u001b[49m\u001b[43mstep\u001b[49m\u001b[43m(\u001b[49m\u001b[43mdt\u001b[49m\u001b[43m,\u001b[49m\u001b[43m \u001b[49m\u001b[43mwall_time\u001b[49m\u001b[43m)\u001b[49m\n\u001b[32m    709\u001b[39m \u001b[38;5;66;03m# Update iteration\u001b[39;00m\n\u001b[32m    710\u001b[39m \u001b[38;5;28mself\u001b[39m.iteration += \u001b[32m1\u001b[39m\n",
      "\u001b[36mFile \u001b[39m\u001b[32m~/miniforge3/envs/dedalus3/lib/python3.13/site-packages/dedalus/core/timesteppers.py:138\u001b[39m, in \u001b[36mMultistepIMEX.step\u001b[39m\u001b[34m(self, dt, wall_time)\u001b[39m\n\u001b[32m    135\u001b[39m     apply_sparse(sp.L_min, spX, axis=\u001b[32m0\u001b[39m, out=LX0.get_subdata(sp))\n\u001b[32m    137\u001b[39m \u001b[38;5;66;03m# Evaluate F(X0)\u001b[39;00m\n\u001b[32m--> \u001b[39m\u001b[32m138\u001b[39m \u001b[43mevaluator\u001b[49m\u001b[43m.\u001b[49m\u001b[43mevaluate_scheduled\u001b[49m\u001b[43m(\u001b[49m\u001b[43miteration\u001b[49m\u001b[43m=\u001b[49m\u001b[43miteration\u001b[49m\u001b[43m,\u001b[49m\u001b[43m \u001b[49m\u001b[43mwall_time\u001b[49m\u001b[43m=\u001b[49m\u001b[43mwall_time\u001b[49m\u001b[43m,\u001b[49m\u001b[43m \u001b[49m\u001b[43msim_time\u001b[49m\u001b[43m=\u001b[49m\u001b[43msim_time\u001b[49m\u001b[43m,\u001b[49m\u001b[43m \u001b[49m\u001b[43mtimestep\u001b[49m\u001b[43m=\u001b[49m\u001b[43mdt\u001b[49m\u001b[43m)\u001b[49m\n\u001b[32m    139\u001b[39m evaluator.require_coeff_space(F_fields)\n\u001b[32m    140\u001b[39m \u001b[38;5;28;01mfor\u001b[39;00m sp \u001b[38;5;129;01min\u001b[39;00m subproblems:\n",
      "\u001b[36mFile \u001b[39m\u001b[32m~/miniforge3/envs/dedalus3/lib/python3.13/site-packages/dedalus/core/evaluator.py:92\u001b[39m, in \u001b[36mEvaluator.evaluate_scheduled\u001b[39m\u001b[34m(self, **kw)\u001b[39m\n\u001b[32m     90\u001b[39m \u001b[38;5;250m\u001b[39m\u001b[33;03m\"\"\"Evaluate all scheduled handlers.\"\"\"\u001b[39;00m\n\u001b[32m     91\u001b[39m handlers = [h \u001b[38;5;28;01mfor\u001b[39;00m h \u001b[38;5;129;01min\u001b[39;00m \u001b[38;5;28mself\u001b[39m.handlers \u001b[38;5;28;01mif\u001b[39;00m h.check_schedule(**kw)]\n\u001b[32m---> \u001b[39m\u001b[32m92\u001b[39m \u001b[38;5;28;43mself\u001b[39;49m\u001b[43m.\u001b[49m\u001b[43mevaluate_handlers\u001b[49m\u001b[43m(\u001b[49m\u001b[43mhandlers\u001b[49m\u001b[43m,\u001b[49m\u001b[43m \u001b[49m\u001b[43m*\u001b[49m\u001b[43m*\u001b[49m\u001b[43mkw\u001b[49m\u001b[43m)\u001b[49m\n",
      "\u001b[36mFile \u001b[39m\u001b[32m~/miniforge3/envs/dedalus3/lib/python3.13/site-packages/dedalus/core/evaluator.py:125\u001b[39m, in \u001b[36mEvaluator.evaluate_handlers\u001b[39m\u001b[34m(self, handlers, id, **kw)\u001b[39m\n\u001b[32m    123\u001b[39m     \u001b[38;5;28mself\u001b[39m.dist.paths[current_index].increment(fields)\n\u001b[32m    124\u001b[39m \u001b[38;5;28;01melse\u001b[39;00m:\n\u001b[32m--> \u001b[39m\u001b[32m125\u001b[39m     \u001b[38;5;28;43mself\u001b[39;49m\u001b[43m.\u001b[49m\u001b[43mdist\u001b[49m\u001b[43m.\u001b[49m\u001b[43mpaths\u001b[49m\u001b[43m[\u001b[49m\u001b[43mnext_index\u001b[49m\u001b[43m]\u001b[49m\u001b[43m.\u001b[49m\u001b[43mdecrement\u001b[49m\u001b[43m(\u001b[49m\u001b[43mfields\u001b[49m\u001b[43m)\u001b[49m\n\u001b[32m    126\u001b[39m current_index = next_index\n\u001b[32m    127\u001b[39m \u001b[38;5;66;03m# Attempt evaluation\u001b[39;00m\n",
      "\u001b[36mFile \u001b[39m\u001b[32m~/miniforge3/envs/dedalus3/lib/python3.13/site-packages/dedalus/core/distributor.py:616\u001b[39m, in \u001b[36mTransform.decrement\u001b[39m\u001b[34m(self, fields)\u001b[39m\n\u001b[32m    614\u001b[39m \u001b[38;5;28;01melse\u001b[39;00m:\n\u001b[32m    615\u001b[39m     \u001b[38;5;28;01mfor\u001b[39;00m field \u001b[38;5;129;01min\u001b[39;00m fields:\n\u001b[32m--> \u001b[39m\u001b[32m616\u001b[39m         \u001b[38;5;28;43mself\u001b[39;49m\u001b[43m.\u001b[49m\u001b[43mdecrement_single\u001b[49m\u001b[43m(\u001b[49m\u001b[43mfield\u001b[49m\u001b[43m)\u001b[49m\n",
      "\u001b[36mFile \u001b[39m\u001b[32m~/miniforge3/envs/dedalus3/lib/python3.13/site-packages/dedalus/core/distributor.py:643\u001b[39m, in \u001b[36mTransform.decrement_single\u001b[39m\u001b[34m(self, field)\u001b[39m\n\u001b[32m    641\u001b[39m \u001b[38;5;66;03m# Transform non-constant bases with local data\u001b[39;00m\n\u001b[32m    642\u001b[39m \u001b[38;5;28;01mif\u001b[39;00m (basis \u001b[38;5;129;01mis\u001b[39;00m \u001b[38;5;129;01mnot\u001b[39;00m \u001b[38;5;28;01mNone\u001b[39;00m) \u001b[38;5;129;01mand\u001b[39;00m prod(gdata.shape):\n\u001b[32m--> \u001b[39m\u001b[32m643\u001b[39m     \u001b[43mbasis\u001b[49m\u001b[43m.\u001b[49m\u001b[43mforward_transform\u001b[49m\u001b[43m(\u001b[49m\u001b[43mfield\u001b[49m\u001b[43m,\u001b[49m\u001b[43m \u001b[49m\u001b[43maxis\u001b[49m\u001b[43m,\u001b[49m\u001b[43m \u001b[49m\u001b[43mgdata\u001b[49m\u001b[43m,\u001b[49m\u001b[43m \u001b[49m\u001b[43mcdata\u001b[49m\u001b[43m)\u001b[49m\n",
      "\u001b[36mFile \u001b[39m\u001b[32m~/miniforge3/envs/dedalus3/lib/python3.13/site-packages/dedalus/core/basis.py:1544\u001b[39m, in \u001b[36mMultidimensionalBasis.forward_transform\u001b[39m\u001b[34m(self, field, axis, gdata, cdata)\u001b[39m\n\u001b[32m   1542\u001b[39m \u001b[38;5;28;01mdef\u001b[39;00m\u001b[38;5;250m \u001b[39m\u001b[34mforward_transform\u001b[39m(\u001b[38;5;28mself\u001b[39m, field, axis, gdata, cdata):\n\u001b[32m   1543\u001b[39m     subaxis = axis - field.dist.get_basis_axis(\u001b[38;5;28mself\u001b[39m)\n\u001b[32m-> \u001b[39m\u001b[32m1544\u001b[39m     \u001b[38;5;28;01mreturn\u001b[39;00m \u001b[38;5;28;43mself\u001b[39;49m\u001b[43m.\u001b[49m\u001b[43mforward_transforms\u001b[49m\u001b[43m[\u001b[49m\u001b[43msubaxis\u001b[49m\u001b[43m]\u001b[49m\u001b[43m(\u001b[49m\u001b[43mfield\u001b[49m\u001b[43m,\u001b[49m\u001b[43m \u001b[49m\u001b[43maxis\u001b[49m\u001b[43m,\u001b[49m\u001b[43m \u001b[49m\u001b[43mgdata\u001b[49m\u001b[43m,\u001b[49m\u001b[43m \u001b[49m\u001b[43mcdata\u001b[49m\u001b[43m)\u001b[49m\n",
      "\u001b[36mFile \u001b[39m\u001b[32m~/miniforge3/envs/dedalus3/lib/python3.13/site-packages/dedalus/core/basis.py:3077\u001b[39m, in \u001b[36mSphereBasis.forward_transform_azimuth\u001b[39m\u001b[34m(self, field, axis, gdata, cdata)\u001b[39m\n\u001b[32m   3075\u001b[39m \u001b[38;5;28;01mdef\u001b[39;00m\u001b[38;5;250m \u001b[39m\u001b[34mforward_transform_azimuth\u001b[39m(\u001b[38;5;28mself\u001b[39m, field, axis, gdata, cdata):\n\u001b[32m   3076\u001b[39m     \u001b[38;5;66;03m# Call Fourier transform\u001b[39;00m\n\u001b[32m-> \u001b[39m\u001b[32m3077\u001b[39m     \u001b[38;5;28;43mself\u001b[39;49m\u001b[43m.\u001b[49m\u001b[43mazimuth_basis\u001b[49m\u001b[43m.\u001b[49m\u001b[43mforward_transform\u001b[49m\u001b[43m(\u001b[49m\u001b[43mfield\u001b[49m\u001b[43m,\u001b[49m\u001b[43m \u001b[49m\u001b[43maxis\u001b[49m\u001b[43m,\u001b[49m\u001b[43m \u001b[49m\u001b[43mgdata\u001b[49m\u001b[43m,\u001b[49m\u001b[43m \u001b[49m\u001b[43mcdata\u001b[49m\u001b[43m)\u001b[49m\n",
      "\u001b[36mFile \u001b[39m\u001b[32m~/miniforge3/envs/dedalus3/lib/python3.13/site-packages/dedalus/core/basis.py:926\u001b[39m, in \u001b[36mFourierBase.forward_transform\u001b[39m\u001b[34m(self, field, axis, gdata, cdata)\u001b[39m\n\u001b[32m    924\u001b[39m \u001b[38;5;28;01mdef\u001b[39;00m\u001b[38;5;250m \u001b[39m\u001b[34mforward_transform\u001b[39m(\u001b[38;5;28mself\u001b[39m, field, axis, gdata, cdata):\n\u001b[32m    925\u001b[39m     \u001b[38;5;66;03m# Transform\u001b[39;00m\n\u001b[32m--> \u001b[39m\u001b[32m926\u001b[39m     \u001b[38;5;28;43msuper\u001b[39;49m\u001b[43m(\u001b[49m\u001b[43m)\u001b[49m\u001b[43m.\u001b[49m\u001b[43mforward_transform\u001b[49m\u001b[43m(\u001b[49m\u001b[43mfield\u001b[49m\u001b[43m,\u001b[49m\u001b[43m \u001b[49m\u001b[43maxis\u001b[49m\u001b[43m,\u001b[49m\u001b[43m \u001b[49m\u001b[43mgdata\u001b[49m\u001b[43m,\u001b[49m\u001b[43m \u001b[49m\u001b[43mcdata\u001b[49m\u001b[43m)\u001b[49m\n\u001b[32m    927\u001b[39m     \u001b[38;5;66;03m# Permute coefficients\u001b[39;00m\n\u001b[32m    928\u001b[39m     \u001b[38;5;28;01mif\u001b[39;00m \u001b[38;5;28mself\u001b[39m.forward_coeff_permutation \u001b[38;5;129;01mis\u001b[39;00m \u001b[38;5;129;01mnot\u001b[39;00m \u001b[38;5;28;01mNone\u001b[39;00m:\n",
      "\u001b[36mFile \u001b[39m\u001b[32m~/miniforge3/envs/dedalus3/lib/python3.13/site-packages/dedalus/core/basis.py:421\u001b[39m, in \u001b[36mIntervalBasis.forward_transform\u001b[39m\u001b[34m(self, field, axis, gdata, cdata)\u001b[39m\n\u001b[32m    419\u001b[39m grid_size = gdata.shape[data_axis]\n\u001b[32m    420\u001b[39m plan = \u001b[38;5;28mself\u001b[39m.transform_plan(field.dist, grid_size)\n\u001b[32m--> \u001b[39m\u001b[32m421\u001b[39m \u001b[43mplan\u001b[49m\u001b[43m.\u001b[49m\u001b[43mforward\u001b[49m\u001b[43m(\u001b[49m\u001b[43mgdata\u001b[49m\u001b[43m,\u001b[49m\u001b[43m \u001b[49m\u001b[43mcdata\u001b[49m\u001b[43m,\u001b[49m\u001b[43m \u001b[49m\u001b[43mdata_axis\u001b[49m\u001b[43m)\u001b[49m\n",
      "\u001b[36mFile \u001b[39m\u001b[32m~/miniforge3/envs/dedalus3/lib/python3.13/site-packages/dedalus/core/transforms.py:555\u001b[39m, in \u001b[36mFFTWRealFFT.forward\u001b[39m\u001b[34m(self, gdata, cdata, axis)\u001b[39m\n\u001b[32m    553\u001b[39m plan, temp = \u001b[38;5;28mself\u001b[39m._build_fftw_plan(gdata.shape, axis)\n\u001b[32m    554\u001b[39m \u001b[38;5;66;03m# Execute FFTW plan\u001b[39;00m\n\u001b[32m--> \u001b[39m\u001b[32m555\u001b[39m \u001b[43mplan\u001b[49m\u001b[43m.\u001b[49m\u001b[43mforward\u001b[49m\u001b[43m(\u001b[49m\u001b[43mgdata\u001b[49m\u001b[43m,\u001b[49m\u001b[43m \u001b[49m\u001b[43mtemp\u001b[49m\u001b[43m)\u001b[49m\n\u001b[32m    556\u001b[39m \u001b[38;5;66;03m# Unpack from complex form and rescale\u001b[39;00m\n\u001b[32m    557\u001b[39m \u001b[38;5;28mself\u001b[39m.unpack_rescale(temp, cdata, axis, rescale=\u001b[32m1\u001b[39m/\u001b[38;5;28mself\u001b[39m.N)\n",
      "\u001b[31mKeyboardInterrupt\u001b[39m: "
     ]
    }
   ],
   "source": [
    "\n",
    "problem = d3.IVP([lnrho, u, s, tau_u, tau_s], namespace=locals())\n",
    "problem.add_equation(\"dt(lnrho) + div(u) = u@grad(lnrho) \")\n",
    "problem.add_equation(\"dt(u) - nu*lap(u)  + lift(tau_u) = -grad(p)/rho - u@grad(u)\")\n",
    "problem.add_equation(\"dt(s) + lift(tau_s) = - u@grad(s)\")\n",
    "problem.add_equation(\"shear_stress = 0\")  # Stress free\n",
    "problem.add_equation(\"radial(u(r=1)) = 0\")  # No penetration\n",
    "problem.add_equation(\"radial(grad(s)(r=1)) = -2\")\n",
    "\n",
    "# Solver\n",
    "solver = problem.build_solver(timestepper)\n",
    "solver.stop_sim_time = stop_sim_time\n",
    "\n",
    "# Initial conditions\n",
    "if not restart:\n",
    "    file_handler_mode = 'overwrite'\n",
    "    initial_timestep = max_timestep\n",
    "else:\n",
    "    write, initial_timestep = solver.load_state('checkpoints/checkpoints_s20.h5')\n",
    "    initial_timestep = 2e-2\n",
    "    file_handler_mode = 'append'\n",
    "\n",
    "# Analysis\n",
    "slices = solver.evaluator.add_file_handler('slices', sim_dt=0.001, max_writes=10, mode=file_handler_mode)\n",
    "slices.add_task(rho(phi=0), scales=dealias, name='T(phi=0)')\n",
    "slices.add_task(rho(phi=np.pi), scales=dealias, name='T(phi=pi)')\n",
    "slices.add_task(rho(phi=3/2*np.pi), scales=dealias, name='T(phi=3/2*pi)')\n",
    "slices.add_task(rho(r=1), scales=dealias, name='T(r=1)')\n",
    "checkpoints = solver.evaluator.add_file_handler('checkpoints', sim_dt=1, max_writes=1, mode=file_handler_mode)\n",
    "checkpoints.add_tasks(solver.state)\n",
    "\n",
    "# CFL\n",
    "CFL = d3.CFL(solver, initial_timestep, cadence=10, safety=0.5, threshold=0.1, max_dt=max_timestep)\n",
    "CFL.add_velocity(u)\n",
    "\n",
    "# Flow properties\n",
    "flow = d3.GlobalFlowProperty(solver, cadence=10)\n",
    "flow.add_property(u@u, name='u2')\n",
    "\n",
    "# Main loop\n",
    "try:\n",
    "    logger.info('Starting main loop')\n",
    "    while solver.proceed:\n",
    "        timestep = CFL.compute_timestep()\n",
    "        solver.step(timestep)\n",
    "        if (solver.iteration-1) % 1 == 0:\n",
    "            max_u = np.sqrt(flow.max('u2'))\n",
    "            logger.info(\"Iteration=%i, Time=%e, dt=%e, max(u)=%e\" %(solver.iteration, solver.sim_time, timestep, max_u))\n",
    "except:\n",
    "    logger.error('Exception raised, triggering end of main loop.')\n",
    "    raise\n",
    "finally:\n",
    "    solver.log_stats()"
   ]
  },
  {
   "cell_type": "markdown",
   "id": "746e126d-4e10-49a5-8954-306663c9f3f4",
   "metadata": {},
   "source": [
    "# Observaciones:\n",
    "\n",
    "-> El codigo funciona unicamente si se resuelve para la temperatura en vez de para la entropia, supongo que esto es por el termino $$\\frac{\\nabla p}{\\rho} $$dado que este se resuelve en base a sustituciones y por ende, lo que termina haciendo internamente Dedalus es calcular un termino proporcional a $$\\frac{\\nabla \\left ( \\rho^{\\Gamma} \\exp \\left ( s \\right ) \\right )}{\\rho}$$."
   ]
  }
 ],
 "metadata": {
  "kernelspec": {
   "display_name": "Dedalus3",
   "language": "python",
   "name": "dedalus3"
  },
  "language_info": {
   "codemirror_mode": {
    "name": "ipython",
    "version": 3
   },
   "file_extension": ".py",
   "mimetype": "text/x-python",
   "name": "python",
   "nbconvert_exporter": "python",
   "pygments_lexer": "ipython3",
   "version": "3.13.1"
  }
 },
 "nbformat": 4,
 "nbformat_minor": 5
}
