{
 "cells": [
  {
   "cell_type": "markdown",
   "id": "96a54be8",
   "metadata": {},
   "source": [
    "# Derivation of Equations for Temperature and Pressure:\n",
    "\n",
    "In this notebook I derive the differential equations for temperature and pressure for the **Compressible MHD**\n",
    "\n",
    "##### Temperature equation:\n",
    "We start with the continuity and entropy balance equations, for the entropy balance equation I use eqn. 49.5 of **Landau & Lifschitz**, together with the Ohm heating term $\\frac{4 \\pi \\eta  \\left | \\mathbf{j} \\right |^2}{c}$ \n",
    "\\begin{align}\n",
    "    \\frac{\\partial \\ln \\rho}{\\partial t} &= - \\nabla \\cdot \\mathbf{u} - \\mathbf{u} \\cdot \\nabla \\ln \\rho \\label{ec1}\\\\\n",
    "    \\frac{\\partial s}{\\partial t} &= - \\mathbf{u} \\cdot \\nabla s + \\frac{4 \\pi \\eta  \\left | \\mathbf{j} \\right |^2}{c \\rho T} + \\frac{\\nu \\mathbf{S}^2}{2 \\rho T} + \\frac{\\kappa}{\\rho T} \\nabla^2 T + \\frac{\\zeta}{\\rho T} \\left ( \\nabla \\cdot \\mathbf{u} \\right )^2 \\label{ec2}\n",
    "\\end{align}\n",
    "Where \n",
    "$$\\mathbf{j} = \\frac{c}{4\\pi} \\nabla \\times \\mathbf{B} \\qquad T = T_c \\left ( \\frac{\\rho}{\\rho_c} \\right )^{\\Gamma - 1} \\exp ((s-s_c)/c_V) \\qquad p = \\frac{\\mathcal{R}\\rho T}{\\mu} \\qquad \\mathbf{S} = \\left ( \\nabla \\mathbf{u}+(\\nabla \\mathbf{u})^T - \\frac{2}{3} (\\nabla \\cdot \\mathbf{u}) \\; \\mathbf{I} \\right )$$\n",
    "We note then the transformation of the gradient and the time derivatives\n",
    "\\begin{align*}\n",
    "    \\frac{\\partial s}{\\partial t} &= \\frac{\\partial s}{\\partial T} \\frac{\\partial T}{\\partial t} + \\frac{\\partial s}{\\partial \\rho} \\frac{\\partial \\rho}{\\partial t}\\\\\n",
    "    \\nabla s &= \\frac{\\partial s}{\\partial T} \\nabla T + \\frac{\\partial s}{\\partial \\rho} \\nabla \\rho\n",
    "\\end{align*}\n",
    "Using the definitions for $T$ gives\n",
    "$$\\frac{\\partial s}{\\partial T} = \\frac{c_V}{T} \\qquad \\qquad \\frac{\\partial s}{\\partial \\rho} = \\frac{\\partial s}{\\partial T} \\frac{\\partial T}{\\partial \\rho} = c_V \\frac{\\Gamma - 1}{\\rho}$$\n",
    "And so, the entropy balance equation for the star becomes\n",
    "$$c_V \\left ( (\\Gamma - 1) \\left ( \\frac{\\partial \\ln \\rho}{\\partial t}  + \\mathbf{u} \\cdot \\nabla \\ln \\rho \\right ) + \\frac{1}{T} \\left ( \\frac{\\partial T}{\\partial t} + \\mathbf{u} \\cdot \\nabla T\\right ) \\right ) = \\frac{4 \\pi \\eta  \\left | \\mathbf{j} \\right |^2}{c \\rho T} + \\frac{\\nu \\mathbf{S}^2}{2 \\rho T} + \\frac{\\kappa}{\\rho T} \\nabla^2 T + \\frac{\\zeta}{\\rho T} \\left ( \\nabla \\cdot \\mathbf{u} \\right )^2 $$\n",
    "Using the continuity equation and rearranging terms the equation becomes\n",
    "$$\\boxed{\\frac{\\partial T}{\\partial t} + \\mathbf{u} \\cdot \\nabla T - (\\Gamma - 1)\\,T\\,\\nabla \\cdot \\mathbf{u} = \\frac{4 \\pi \\eta  \\left | \\mathbf{j} \\right |^2}{c \\rho c_V} + \\frac{\\nu \\mathbf{S}^2}{2 \\rho c_V} + \\frac{\\kappa}{\\rho c_V} \\nabla^2 T + \\frac{\\zeta}{\\rho c_V} \\left ( \\nabla \\cdot \\mathbf{u} \\right )^2}$$\n",
    "And the rest of the Compressible MHD equations are\n",
    "\\begin{align*}\n",
    "    \\frac{\\partial \\ln \\rho}{\\partial t} &= - \\nabla \\cdot \\mathbf{u} - \\mathbf{u} \\cdot \\nabla \\ln \\rho\\\\\n",
    "    \\frac{\\partial \\mathbf{A}}{\\partial t} &= \\mathbf{u} \\times \\mathbf{B} - \\frac{4 \\pi \\eta}{c} \\mathbf{j}\\\\\n",
    "    \\frac{\\partial \\mathbf{u}}{\\partial t} &= -(\\mathbf{u} \\cdot \\nabla) \\mathbf{u} - \\frac{\\nabla p}{\\rho} + \\frac{\\nu}{\\rho} \\nabla^2 \\mathbf{u} + \\frac{1}{\\rho} \\left ( \\zeta + \\frac{\\nu}{3} \\right ) \\nabla \\left ( \\nabla \\cdot \\mathbf{u} \\right ) + \\frac{\\mathbf{j \\times B}}{\\rho}\n",
    "\\end{align*}\n",
    "The last equation corresponds to eqn. (15.6) of **Landau & Lifschitz** and it can be re-written as \n",
    "$$ \\frac{\\partial \\mathbf{u}}{\\partial t} = -(\\mathbf{u} \\cdot \\nabla) \\mathbf{u} - \\frac{\\nabla p}{\\rho} + \\frac{2 \\nu}{\\rho} \\nabla \\cdot \\mathbf{S} + \\frac{\\zeta}{\\rho} \\nabla (\\nabla \\cdot \\mathbf{u}) +\\frac{\\mathbf{j \\times B}}{\\rho} $$\n",
    "\n",
    "###### Pressure equation:\n",
    "For the pressure we assume an ideal gas equation of state $$p = \\frac{\\mathcal{R} \\rho T}{\\mu}$$\n",
    "And so, \n",
    "$$\\nabla T = \\frac{\\partial T}{\\partial \\rho} \\nabla \\rho + \\frac{\\partial T}{\\partial p} \\nabla p \\qquad \\qquad \\frac{\\partial T}{\\partial t} = \\frac{\\partial T}{\\partial \\rho} \\frac{\\partial \\rho}{\\partial t} + \\frac{\\partial T}{\\partial p}\\frac{\\partial p}{\\partial t}$$\n",
    "Using\n",
    "$$ \\frac{\\partial T}{\\partial \\rho} = \\frac{\\Gamma-1}{\\rho} T \\qquad \\qquad \\frac{\\partial T}{\\partial p} = \\frac{\\mu}{\\mathcal{R} \\rho}$$\n",
    "\n",
    "\n",
    "### Considerations:\n",
    "\n",
    "In this case I use $\\nu$ as the **dynamic viscosity**, I cannot use it as the **kinematic viscosity** since this is defined as the ratio of the dynamic viscosity and the density, as I'm using a compresssible fluid, I cannot define this number as a constant.\n",
    "\n",
    "It seems that in Laura's work the **second viscosity ($\\zeta$)** is equal to zero, as the terms that it accompanies are not in her equations.\n",
    "\n",
    "\n",
    "\n"
   ]
  }
 ],
 "metadata": {
  "kernelspec": {
   "display_name": "Dedalus3",
   "language": "python",
   "name": "dedalus3"
  },
  "language_info": {
   "codemirror_mode": {
    "name": "ipython",
    "version": 3
   },
   "file_extension": ".py",
   "mimetype": "text/x-python",
   "name": "python",
   "nbconvert_exporter": "python",
   "pygments_lexer": "ipython3",
   "version": "3.12.4"
  }
 },
 "nbformat": 4,
 "nbformat_minor": 5
}
